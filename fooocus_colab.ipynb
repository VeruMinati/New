{
  "cells": [
    {
      "cell_type": "markdown",
      "metadata": {
        "id": "view-in-github",
        "colab_type": "text"
      },
      "source": [
        "<a href=\"https://colab.research.google.com/github/VeruMinati/New/blob/master/fooocus_colab.ipynb\" target=\"_parent\"><img src=\"https://colab.research.google.com/assets/colab-badge.svg\" alt=\"Open In Colab\"/></a>"
      ]
    },
    {
      "cell_type": "code",
      "execution_count": 2,
      "metadata": {
        "id": "VjYy0F2gZIPR",
        "colab": {
          "base_uri": "https://localhost:8080/"
        },
        "outputId": "03b96790-c646-4bc5-a798-5b2c02571f3b"
      },
      "outputs": [
        {
          "output_type": "stream",
          "name": "stdout",
          "text": [
            "Requirement already satisfied: pygit2==1.15.1 in /usr/local/lib/python3.11/dist-packages (1.15.1)\n",
            "Requirement already satisfied: cffi>=1.16.0 in /usr/local/lib/python3.11/dist-packages (from pygit2==1.15.1) (1.17.1)\n",
            "Requirement already satisfied: pycparser in /usr/local/lib/python3.11/dist-packages (from cffi>=1.16.0->pygit2==1.15.1) (2.22)\n",
            "/content\n",
            "fatal: destination path 'Fooocus' already exists and is not an empty directory.\n",
            "/content/Fooocus\n",
            "Already up-to-date\n",
            "Update succeeded.\n",
            "[System ARGV] ['entry_with_update.py', '--share', '--always-high-vram']\n",
            "Python 3.11.11 (main, Dec  4 2024, 08:55:07) [GCC 11.4.0]\n",
            "Fooocus version: 2.5.5\n",
            "[Cleanup] Attempting to delete content of temp dir /tmp/fooocus\n",
            "[Cleanup] Cleanup successful\n",
            "Traceback (most recent call last):\n",
            "  File \"/content/Fooocus/entry_with_update.py\", line 46, in <module>\n",
            "    from launch import *\n",
            "  File \"/content/Fooocus/launch.py\", line 152, in <module>\n",
            "    from webui import *\n",
            "  File \"/content/Fooocus/webui.py\", line 1, in <module>\n",
            "    import gradio as gr\n",
            "  File \"/usr/local/lib/python3.11/dist-packages/gradio/__init__.py\", line 3, in <module>\n",
            "  File \"/usr/local/lib/python3.11/dist-packages/gradio/components/__init__.py\", line 3, in <module>\n",
            "    from gradio.components.bar_plot import BarPlot\n",
            "  File \"/usr/local/lib/python3.11/dist-packages/gradio/components/bar_plot.py\", line 8, in <module>\n",
            "    import pandas as pd\n",
            "  File \"/usr/local/lib/python3.11/dist-packages/pandas/__init__.py\", line 138, in <module>\n",
            "    from pandas import api, arrays, errors, io, plotting, tseries\n",
            "  File \"/usr/local/lib/python3.11/dist-packages/pandas/api/__init__.py\", line 2, in <module>\n",
            "    from pandas.api import (\n",
            "  File \"/usr/local/lib/python3.11/dist-packages/pandas/api/typing/__init__.py\", line 31, in <module>\n",
            "    from pandas.io.json._json import JsonReader\n",
            "  File \"/usr/local/lib/python3.11/dist-packages/pandas/io/json/__init__.py\", line 1, in <module>\n",
            "    from pandas.io.json._json import (\n",
            "  File \"/usr/local/lib/python3.11/dist-packages/pandas/io/json/_json.py\", line 71, in <module>\n",
            "    from pandas.io.parsers.readers import validate_integer\n",
            "  File \"/usr/local/lib/python3.11/dist-packages/pandas/io/parsers/__init__.py\", line 1, in <module>\n",
            "    from pandas.io.parsers.readers import (\n",
            "  File \"<frozen importlib._bootstrap>\", line 1176, in _find_and_load\n",
            "  File \"<frozen importlib._bootstrap>\", line 1138, in _find_and_load_unlocked\n",
            "  File \"<frozen importlib._bootstrap>\", line 1070, in _find_spec\n",
            "  File \"<frozen importlib._bootstrap>\", line 1030, in __exit__\n",
            "KeyboardInterrupt\n",
            "^C\n"
          ]
        }
      ],
      "source": [
        "!pip install pygit2==1.15.1\n",
        "%cd /content\n",
        "!git clone https://github.com/lllyasviel/Fooocus.git\n",
        "%cd /content/Fooocus\n",
        "!python entry_with_update.py --share --always-high-vram\n",
        "\n"
      ]
    }
  ],
  "metadata": {
    "accelerator": "GPU",
    "colab": {
      "gpuType": "T4",
      "provenance": [],
      "include_colab_link": true
    },
    "kernelspec": {
      "display_name": "Python 3",
      "name": "python3"
    },
    "language_info": {
      "name": "python"
    }
  },
  "nbformat": 4,
  "nbformat_minor": 0
}